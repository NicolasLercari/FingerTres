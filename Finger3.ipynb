{
 "cells": [
  {
   "cell_type": "code",
   "execution_count": 1,
   "metadata": {
    "collapsed": false
   },
   "outputs": [],
   "source": [
    "import time\n",
    "import matplotlib.pyplot as plt\n",
    "\n",
    "\n",
    "inicio = time.time()\n",
    "\n",
    "listaCollatz = range(2,20000000)\n",
    "listaCollatzRdd = sc.parallelize(listaCollatz,200)"
   ]
  },
  {
   "cell_type": "code",
   "execution_count": null,
   "metadata": {
    "collapsed": false
   },
   "outputs": [],
   "source": [
    "def collatz(n):\n",
    "    numero = n\n",
    "    lista = []\n",
    "    lista.append(numero)\n",
    "    while numero > 1:\n",
    "        if numero%2 == 0:\n",
    "             numero = numero/2\n",
    "        else:\n",
    "            numero = 3*numero + 1\n",
    "        lista.append(numero)\n",
    "    return lista "
   ]
  },
  {
   "cell_type": "code",
   "execution_count": null,
   "metadata": {
    "collapsed": false,
    "scrolled": false
   },
   "outputs": [],
   "source": [
    "mapa =  listaCollatzRdd.map(lambda x: (x, len(collatz(x))))\n",
    "reducido = mapa.reduce(lambda x,y: x if x[1]>y[1] else y)\n",
    "\n",
    "#Rdd =  listaCollatzRdd.map(lambda x: (x, (collatz(x)))).reduce(lambda x,y: x if len(x[1])>len(y[1]) else y)\n",
    "#Rdd =  listaCollatzRdd.map(lambda x: (x, (collatz(x)))).top(1,lambda x: x[1]).collect()\n",
    "\n",
    "print 'numero: ' + str(reducido[0])\n",
    "print 'logitud: ' + str(reducido[1])\n",
    "\n",
    "print 'tiempo transcurrido: ' + str((time.time()-inicio)/60) + 'minutos'\n",
    "\n",
    "xLista = mapa.map(lambda x: x[0]).collect()\n",
    "yLista = mapa.map(lambda x: x[1]).collect()\n",
    "    \n",
    "plt.axis([2, 20000000, 0, 800])\n",
    "plt.plot(xLista, yLista, '.')\n",
    "plt.show()"
   ]
  },
  {
   "cell_type": "code",
   "execution_count": null,
   "metadata": {
    "collapsed": true
   },
   "outputs": [],
   "source": []
  }
 ],
 "metadata": {
  "kernelspec": {
   "display_name": "pySpark",
   "language": "python",
   "name": "pyspark"
  },
  "language_info": {
   "codemirror_mode": {
    "name": "ipython",
    "version": 2
   },
   "file_extension": ".py",
   "mimetype": "text/x-python",
   "name": "python",
   "nbconvert_exporter": "python",
   "pygments_lexer": "ipython2",
   "version": "2.7.10"
  }
 },
 "nbformat": 4,
 "nbformat_minor": 0
}
